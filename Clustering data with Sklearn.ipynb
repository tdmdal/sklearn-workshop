{
 "cells": [
  {
   "cell_type": "code",
   "execution_count": null,
   "id": "54d87d83",
   "metadata": {},
   "outputs": [],
   "source": [
    "from sklearn.datasets import fetch_openml\n",
    "\n",
    "#fetch by using data name\n",
    "# https://www.openml.org/d/1461\n",
    "bank_marketing = fetch_openml(name='bank-marketing')# seperate independent variables and target variable \n",
    "x = bank_marketing.data \n",
    "y = bank_marketing.target"
   ]
  },
  {
   "cell_type": "code",
   "execution_count": null,
   "id": "46c0cc04",
   "metadata": {},
   "outputs": [],
   "source": [
    "from sklearn.datasets import make_classification\n",
    "from sklearn.neighbors import KNeighborsClassifier\n",
    "from sklearn.model_selection import learning_curve# create dataset`\n",
    "X, y = make_classification(n_classes=2, n_features=10, n_samples=5000, random_state=1)# create estimator\n",
    "KNN_classifier = KNeighborsClassifier()#\n",
    "train_sizes, train_scores, test_scores = learning_curve(\n",
    "estimator = KNN_classifier,\n",
    "X = X,\n",
    "y = y,\n",
    "train_sizes=np.linspace(0.1, 1.0, 5),\n",
    "shuffle=True, cv = 5)"
   ]
  },
  {
   "cell_type": "code",
   "execution_count": null,
   "id": "f8cdbec4",
   "metadata": {},
   "outputs": [],
   "source": [
    "from sklearn import datasets, linear_model\n",
    "from sklearn.feature_selection import SelectFromModel\n",
    "from sklearn.linear_model import LogisticRegression#load dataet\n",
    "diabetes = datasets.load_diabetes()\n",
    "X = diabetes.data\n",
    "y = diabetes.target\n",
    "\n",
    "lg_regressor = LogisticRegression()# identify and select important fatures by using SelectFromModel\n",
    "selector = SelectFromModel(estimator=lg_regressor).fit(X, y)#show estimator coefficient \n",
    "selector.estimator_.coef_"
   ]
  },
  {
   "cell_type": "code",
   "execution_count": null,
   "id": "ee209e94",
   "metadata": {},
   "outputs": [],
   "source": [
    "# show the threshold value\n",
    "selector.threshold_"
   ]
  },
  {
   "cell_type": "code",
   "execution_count": null,
   "id": "26701647",
   "metadata": {},
   "outputs": [],
   "source": [
    "transformed = selector.transform(X)\n",
    "transformed[:3]"
   ]
  },
  {
   "cell_type": "code",
   "execution_count": null,
   "id": "0371cbe6",
   "metadata": {},
   "outputs": [],
   "source": []
  }
 ],
 "metadata": {
  "kernelspec": {
   "display_name": "Python 3",
   "language": "python",
   "name": "python3"
  },
  "language_info": {
   "codemirror_mode": {
    "name": "ipython",
    "version": 3
   },
   "file_extension": ".py",
   "mimetype": "text/x-python",
   "name": "python",
   "nbconvert_exporter": "python",
   "pygments_lexer": "ipython3",
   "version": "3.7.3"
  }
 },
 "nbformat": 4,
 "nbformat_minor": 5
}
