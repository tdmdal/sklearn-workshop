{
 "cells": [
  {
   "cell_type": "markdown",
   "id": "004e73b8",
   "metadata": {},
   "source": [
    "## Machine Learning in Sklearn Basics\n",
    "\n",
    "Machine Learning (ML) is about creating model from data. In most circumstances our data is in a basic table format. Sklearn accepts such two-dimensional data in which each row represents individual elements of the data and the columns represent properties related to those elements. This table layout is also referred to as __Feature Matrix__. Feature matrix is most often contained in a NumPy `ndarray` or a `Pandas` DataFrame and will have a shape of `[n_samples, n_featuers]`, which refers to the number of rows and the number of columns respectively. Feature matrix is often stored as `X`.\n",
    "\n",
    "In addition to the feature matrix `X`, there can also be a __label__ or __target array__, conventionally stored as `y`. The target array is the quantity we want to predict from the data. Thus, the target array is present in a supervised learning implementation. The target array is usually a one-dimensional object, has the same length as `n_samples` and is often contained in a NumPy `ndarray` or a Pandas `Series`. The target value may be continuous numerical values or discrete classes/categories.\n",
    "\n",
    "With this is mind, lets load our dataset and explore."
   ]
  },
  {
   "cell_type": "code",
   "execution_count": 1,
   "id": "8a784939",
   "metadata": {},
   "outputs": [],
   "source": [
    "import numpy as np\n",
    "import pandas as pd\n",
    "import matplotlib.pyplot as plt"
   ]
  },
  {
   "cell_type": "code",
   "execution_count": 2,
   "id": "cd164abf",
   "metadata": {},
   "outputs": [
    {
     "data": {
      "text/html": [
       "<div>\n",
       "<style scoped>\n",
       "    .dataframe tbody tr th:only-of-type {\n",
       "        vertical-align: middle;\n",
       "    }\n",
       "\n",
       "    .dataframe tbody tr th {\n",
       "        vertical-align: top;\n",
       "    }\n",
       "\n",
       "    .dataframe thead th {\n",
       "        text-align: right;\n",
       "    }\n",
       "</style>\n",
       "<table border=\"1\" class=\"dataframe\">\n",
       "  <thead>\n",
       "    <tr style=\"text-align: right;\">\n",
       "      <th></th>\n",
       "      <th>TV</th>\n",
       "      <th>Radio</th>\n",
       "      <th>Newspaper</th>\n",
       "      <th>Sales</th>\n",
       "    </tr>\n",
       "  </thead>\n",
       "  <tbody>\n",
       "    <tr>\n",
       "      <th>0</th>\n",
       "      <td>230.1</td>\n",
       "      <td>37.8</td>\n",
       "      <td>69.2</td>\n",
       "      <td>22.1</td>\n",
       "    </tr>\n",
       "    <tr>\n",
       "      <th>1</th>\n",
       "      <td>44.5</td>\n",
       "      <td>39.3</td>\n",
       "      <td>45.1</td>\n",
       "      <td>10.4</td>\n",
       "    </tr>\n",
       "    <tr>\n",
       "      <th>2</th>\n",
       "      <td>17.2</td>\n",
       "      <td>45.9</td>\n",
       "      <td>69.3</td>\n",
       "      <td>9.3</td>\n",
       "    </tr>\n",
       "    <tr>\n",
       "      <th>3</th>\n",
       "      <td>151.5</td>\n",
       "      <td>41.3</td>\n",
       "      <td>58.5</td>\n",
       "      <td>18.5</td>\n",
       "    </tr>\n",
       "    <tr>\n",
       "      <th>4</th>\n",
       "      <td>180.8</td>\n",
       "      <td>10.8</td>\n",
       "      <td>58.4</td>\n",
       "      <td>12.9</td>\n",
       "    </tr>\n",
       "  </tbody>\n",
       "</table>\n",
       "</div>"
      ],
      "text/plain": [
       "      TV  Radio  Newspaper  Sales\n",
       "0  230.1   37.8       69.2   22.1\n",
       "1   44.5   39.3       45.1   10.4\n",
       "2   17.2   45.9       69.3    9.3\n",
       "3  151.5   41.3       58.5   18.5\n",
       "4  180.8   10.8       58.4   12.9"
      ]
     },
     "execution_count": 2,
     "metadata": {},
     "output_type": "execute_result"
    }
   ],
   "source": [
    "data = pd.read_csv('advertising.csv')\n",
    "data.head()"
   ]
  },
  {
   "cell_type": "markdown",
   "id": "5cca0a90",
   "metadata": {},
   "source": [
    "The data provides information on advertising expenditure and sales by market. It is taken from [Kaggle](https://www.kaggle.com/ashydv/advertising-dataset). Each row represent a market. The first three columns represent advertising dollar (in thousands of dollar) spent for a single product in a given market. The last column represents sales (in thousands) of a single product in a given market.  \n",
    "\n",
    "So here we want to analyze how the company should spend its advertising budget to increase the number of sales. To do so we can look at a couple of things:\n",
    "\n",
    "* Is there any relationship between ads and sales? If so, how strong is the relationship?\n",
    "* Which ad type contributes to highest sales?\n",
    "* Can we predict sales based on ad spending?\n",
    "\n",
    "Since we are using the advertising data to predict sales, sales is our target and the first three columns make up our feature matrix."
   ]
  },
  {
   "cell_type": "code",
   "execution_count": 3,
   "id": "782ae2b5",
   "metadata": {},
   "outputs": [
    {
     "name": "stdout",
     "output_type": "stream",
     "text": [
      "(200, 3)\n",
      "(200,)\n"
     ]
    }
   ],
   "source": [
    "X = data[['TV', 'Radio', 'Newspaper']]\n",
    "y = data['Sales']\n",
    "\n",
    "print(X.shape)\n",
    "print(y.shape)"
   ]
  },
  {
   "cell_type": "markdown",
   "id": "0ee44961",
   "metadata": {},
   "source": [
    "To answer the first question, we can begin by visualizing our data in a scatter plot."
   ]
  },
  {
   "cell_type": "code",
   "execution_count": 4,
   "id": "b785ccc3",
   "metadata": {},
   "outputs": [
    {
     "data": {
      "text/plain": [
       "<AxesSubplot:xlabel='Newspaper', ylabel='Sales'>"
      ]
     },
     "execution_count": 4,
     "metadata": {},
     "output_type": "execute_result"
    },
    {
     "data": {
      "image/png": "[encoded data removed]",
      "text/plain": [
       "<Figure size 1152x576 with 3 Axes>"
      ]
     },
     "metadata": {
      "needs_background": "light"
     },
     "output_type": "display_data"
    }
   ],
   "source": [
    "# visualize the relationship between the features and the response using scatterplots\n",
    "fig, axes = plt.subplots(1, 3, sharey=True)\n",
    "data.plot(kind='scatter', x='TV', y='Sales', ax=axes[0], figsize=(16, 8))\n",
    "data.plot(kind='scatter', x='Radio', y='Sales', ax=axes[1])\n",
    "data.plot(kind='scatter', x='Newspaper', y='Sales', ax=axes[2])"
   ]
  },
  {
   "cell_type": "markdown",
   "id": "cb90d894",
   "metadata": {},
   "source": [
    "We can also calculate the correlation between each ad type and sales using the [`.corr` method](https://pandas.pydata.org/docs/reference/api/pandas.DataFrame.corr.html) of pandas Dataframe. \n",
    "\n",
    "Correlation is a statistical relationship, whether causal or not, between two random variables ([wikipedia](https://en.wikipedia.org/wiki/Correlation)). It gives us an indication on how strong or weak is the linear relationship between two variables. Corelation coefficient can range from -1 to +1. Positive correlation means that increasing one of the variable leads to an increase in the other variable as well while negative correlation means that increasing one of the variable leads to a decrease in the other variable."
   ]
  },
  {
   "cell_type": "code",
   "execution_count": 5,
   "id": "11673f58",
   "metadata": {},
   "outputs": [
    {
     "data": {
      "text/html": [
       "<div>\n",
       "<style scoped>\n",
       "    .dataframe tbody tr th:only-of-type {\n",
       "        vertical-align: middle;\n",
       "    }\n",
       "\n",
       "    .dataframe tbody tr th {\n",
       "        vertical-align: top;\n",
       "    }\n",
       "\n",
       "    .dataframe thead th {\n",
       "        text-align: right;\n",
       "    }\n",
       "</style>\n",
       "<table border=\"1\" class=\"dataframe\">\n",
       "  <thead>\n",
       "    <tr style=\"text-align: right;\">\n",
       "      <th></th>\n",
       "      <th>TV</th>\n",
       "      <th>Radio</th>\n",
       "      <th>Newspaper</th>\n",
       "      <th>Sales</th>\n",
       "    </tr>\n",
       "  </thead>\n",
       "  <tbody>\n",
       "    <tr>\n",
       "      <th>TV</th>\n",
       "      <td>1.000000</td>\n",
       "      <td>0.054809</td>\n",
       "      <td>0.056648</td>\n",
       "      <td>0.782224</td>\n",
       "    </tr>\n",
       "    <tr>\n",
       "      <th>Radio</th>\n",
       "      <td>0.054809</td>\n",
       "      <td>1.000000</td>\n",
       "      <td>0.354104</td>\n",
       "      <td>0.576223</td>\n",
       "    </tr>\n",
       "    <tr>\n",
       "      <th>Newspaper</th>\n",
       "      <td>0.056648</td>\n",
       "      <td>0.354104</td>\n",
       "      <td>1.000000</td>\n",
       "      <td>0.228299</td>\n",
       "    </tr>\n",
       "    <tr>\n",
       "      <th>Sales</th>\n",
       "      <td>0.782224</td>\n",
       "      <td>0.576223</td>\n",
       "      <td>0.228299</td>\n",
       "      <td>1.000000</td>\n",
       "    </tr>\n",
       "  </tbody>\n",
       "</table>\n",
       "</div>"
      ],
      "text/plain": [
       "                 TV     Radio  Newspaper     Sales\n",
       "TV         1.000000  0.054809   0.056648  0.782224\n",
       "Radio      0.054809  1.000000   0.354104  0.576223\n",
       "Newspaper  0.056648  0.354104   1.000000  0.228299\n",
       "Sales      0.782224  0.576223   0.228299  1.000000"
      ]
     },
     "execution_count": 5,
     "metadata": {},
     "output_type": "execute_result"
    }
   ],
   "source": [
    "data.corr()"
   ]
  },
  {
   "cell_type": "markdown",
   "id": "8e5cce86",
   "metadata": {},
   "source": [
    "We see that correlation between ad type TV and Sales is 0.78, which is a positive correlation and is higher than that of other two ad types. We can select ad type TV only for now to see how well its can predict sales. To do so, we will fit a Linear Regression model to this data. \n",
    "\n",
    "## Linear Regression\n",
    "\n",
    "Linear Regression is the most used statistical algorithm. It provides a good background in understanding a whole class of linear models known as Generalized Linear Models (GLM). It also helps understand statistical terms such as cost functions, coefficients and optimization. \n",
    "\n",
    "The overall objective of Linear Regression is to predict a straight line through the data, such that the vertical distance of each data point is minimal from that line. So in this case we will predict the sales in a given market based on the advertising dollar spent on TV."
   ]
  },
  {
   "cell_type": "code",
   "execution_count": 6,
   "id": "f77ae296",
   "metadata": {},
   "outputs": [
    {
     "data": {
      "text/plain": [
       "0    230.1\n",
       "1     44.5\n",
       "2     17.2\n",
       "3    151.5\n",
       "4    180.8\n",
       "Name: TV, dtype: float64"
      ]
     },
     "execution_count": 6,
     "metadata": {},
     "output_type": "execute_result"
    }
   ],
   "source": [
    "X_tv = X['TV']\n",
    "X_tv.head()"
   ]
  },
  {
   "cell_type": "markdown",
   "id": "6a0e7399",
   "metadata": {},
   "source": [
    "### Simple Linear Regression\n",
    "\n",
    "* Regression approach that uses a single feature (predictor) to predict a quantitative response (predictand). \n",
    "* The simple linear regression equation takes the form: $\\hat{y} = \\hat{\\beta}_{0} + \\hat{\\beta}_{1}x $ (derived from equation of a straight line: $y = mx + c $)\n",
    "    * where $\\hat{y}$ is the predicted sales and $x$ is the spending on ad type TV\n",
    "    * $\\hat{\\beta}_{0}$ is the intercept (value of sales when  spending on ad type TV is 0)\n",
    "    * $\\hat{\\beta}_{1}$ is the slope or coefficient of ad type TV\n",
    "* Our task then is to find the optimal values of intercept and the coefficient. We can use the principle of __Ordinary Least Squares__ to estimate these values. Based on this principle, we aim to minimize the residual sum of squared distances between the target value and the predicted value. The resulting straight line is our __regression line__.\n",
    "\n",
    "Sklearn's [`Linear Regression` function](https://scikit-learn.org/stable/modules/generated/sklearn.linear_model.LinearRegression.html) can be used to implement this. Let's try that here! \n",
    "\n",
    "First, we will split the data into training and test set. For that we can import [`train_test_split` \n",
    "function](https://scikit-learn.org/stable/modules/generated/sklearn.model_selection.train_test_split.html) from `model_selection` module of the sklearn package. "
   ]
  },
  {
   "cell_type": "code",
   "execution_count": 25,
   "id": "7b31031e",
   "metadata": {},
   "outputs": [],
   "source": [
    "from sklearn.model_selection import train_test_split"
   ]
  },
  {
   "cell_type": "code",
   "execution_count": 26,
   "id": "11e0d93a",
   "metadata": {},
   "outputs": [],
   "source": [
    "Xtrain_tv, Xtest_tv, ytrain_tv, ytest_tv = train_test_split(X_tv, y, test_size=0.2, random_state=123)"
   ]
  },
  {
   "cell_type": "markdown",
   "id": "a415c2a9",
   "metadata": {},
   "source": [
    "Typically, a 80-20 split is recommended, where 80% of the data is used for training and 20% of remaining data is held back for testing. The `test_size` parameter takes on the latter value. The `random_state` parameter can be set to any whole number. This is done to ensure that we can replicate our results when we re-run the model again. "
   ]
  },
  {
   "cell_type": "markdown",
   "id": "1d54e4c3",
   "metadata": {},
   "source": [
    "Now we are ready to fit the training data. For that we will import the `LinearRegression` function from `linear_model` module of sklearn package."
   ]
  },
  {
   "cell_type": "code",
   "execution_count": 27,
   "id": "f3e0d131",
   "metadata": {},
   "outputs": [],
   "source": [
    "from sklearn.linear_model import LinearRegression"
   ]
  },
  {
   "cell_type": "markdown",
   "id": "f7c8acfb",
   "metadata": {},
   "source": [
    "Next, we must create an instance of the `LinearRegression` model. "
   ]
  },
  {
   "cell_type": "code",
   "execution_count": 28,
   "id": "9b6c2807",
   "metadata": {},
   "outputs": [],
   "source": [
    "lr = LinearRegression()"
   ]
  },
  {
   "cell_type": "markdown",
   "id": "31daabf2",
   "metadata": {},
   "source": [
    "Then we take the training and test data and fit the selected model."
   ]
  },
  {
   "cell_type": "code",
   "execution_count": 29,
   "id": "e1b06587",
   "metadata": {},
   "outputs": [
    {
     "ename": "ValueError",
     "evalue": "Expected 2D array, got 1D array instead:\narray=[ 62.3 280.7  78.2 265.6 228.3 164.5 177.  222.4 197.6 109.8 139.5 225.8\n 293.6 141.3  75.5  85.7  66.1 276.9 120.5 239.3 239.8  90.4 175.7 140.3\n   8.6 121.  187.8 134.3 266.9 102.7 248.8  97.5 131.7  76.4  93.9  25.1\n  17.2 149.8   0.7  53.5 120.2 292.9 170.2   8.4  70.6 290.7 230.1 286.\n 175.1 273.7 202.5 210.7 243.2  89.7  87.2   8.7  67.8 284.3  69.  213.4\n 261.3  38.2  43.1 240.1 262.7 104.6  38.  218.5 163.5 220.5 110.7 199.8\n  57.5 172.5 139.2 224.  234.5  94.2 206.8 193.7 109.8 237.4 214.7 139.3\n 151.5  76.3 215.4  28.6  25.6 227.2  76.4 100.4  44.5  69.2  23.8 248.4\n   7.3 262.9 296.4 206.9  59.6 187.9 204.1  36.9  75.1 232.1 199.1 195.4\n 240.1  13.2  43.  210.8  16.9 131.1 216.8 166.8 265.2  27.5  95.7   4.1\n 107.4 125.7 184.9 280.2 217.7 229.5 135.2 137.9  48.3 191.1 168.4 177.\n 228.  213.5  17.2 198.9  66.9 237.4  39.5 117.2   5.4 149.7 171.3 241.7\n 222.4  97.2 129.4 239.9 283.6 209.6 197.6 136.2 123.1  25.   68.4 281.4\n 289.7  31.5   7.8 255.4].\nReshape your data either using array.reshape(-1, 1) if your data has a single feature or array.reshape(1, -1) if it contains a single sample.",
     "output_type": "error",
     "traceback": [
      "\u001b[1;31m---------------------------------------------------------------------------\u001b[0m",
      "\u001b[1;31mValueError\u001b[0m                                Traceback (most recent call last)",
      "\u001b[1;32m<ipython-input-29-ee812d69da8c>\u001b[0m in \u001b[0;36m<module>\u001b[1;34m\u001b[0m\n\u001b[1;32m----> 1\u001b[1;33m \u001b[0mlr\u001b[0m\u001b[1;33m.\u001b[0m\u001b[0mfit\u001b[0m\u001b[1;33m(\u001b[0m\u001b[0mXtrain_tv\u001b[0m\u001b[1;33m,\u001b[0m \u001b[0mytrain_tv\u001b[0m\u001b[1;33m)\u001b[0m\u001b[1;33m\u001b[0m\u001b[1;33m\u001b[0m\u001b[0m\n\u001b[0m",
      "\u001b[1;32m~\\AppData\\Local\\Continuum\\anaconda3\\lib\\site-packages\\sklearn\\linear_model\\_base.py\u001b[0m in \u001b[0;36mfit\u001b[1;34m(self, X, y, sample_weight)\u001b[0m\n\u001b[0;32m    517\u001b[0m \u001b[1;33m\u001b[0m\u001b[0m\n\u001b[0;32m    518\u001b[0m         X, y = self._validate_data(X, y, accept_sparse=accept_sparse,\n\u001b[1;32m--> 519\u001b[1;33m                                    y_numeric=True, multi_output=True)\n\u001b[0m\u001b[0;32m    520\u001b[0m \u001b[1;33m\u001b[0m\u001b[0m\n\u001b[0;32m    521\u001b[0m         \u001b[1;32mif\u001b[0m \u001b[0msample_weight\u001b[0m \u001b[1;32mis\u001b[0m \u001b[1;32mnot\u001b[0m \u001b[1;32mNone\u001b[0m\u001b[1;33m:\u001b[0m\u001b[1;33m\u001b[0m\u001b[1;33m\u001b[0m\u001b[0m\n",
      "\u001b[1;32m~\\AppData\\Local\\Continuum\\anaconda3\\lib\\site-packages\\sklearn\\base.py\u001b[0m in \u001b[0;36m_validate_data\u001b[1;34m(self, X, y, reset, validate_separately, **check_params)\u001b[0m\n\u001b[0;32m    431\u001b[0m                 \u001b[0my\u001b[0m \u001b[1;33m=\u001b[0m \u001b[0mcheck_array\u001b[0m\u001b[1;33m(\u001b[0m\u001b[0my\u001b[0m\u001b[1;33m,\u001b[0m \u001b[1;33m**\u001b[0m\u001b[0mcheck_y_params\u001b[0m\u001b[1;33m)\u001b[0m\u001b[1;33m\u001b[0m\u001b[1;33m\u001b[0m\u001b[0m\n\u001b[0;32m    432\u001b[0m             \u001b[1;32melse\u001b[0m\u001b[1;33m:\u001b[0m\u001b[1;33m\u001b[0m\u001b[1;33m\u001b[0m\u001b[0m\n\u001b[1;32m--> 433\u001b[1;33m                 \u001b[0mX\u001b[0m\u001b[1;33m,\u001b[0m \u001b[0my\u001b[0m \u001b[1;33m=\u001b[0m \u001b[0mcheck_X_y\u001b[0m\u001b[1;33m(\u001b[0m\u001b[0mX\u001b[0m\u001b[1;33m,\u001b[0m \u001b[0my\u001b[0m\u001b[1;33m,\u001b[0m \u001b[1;33m**\u001b[0m\u001b[0mcheck_params\u001b[0m\u001b[1;33m)\u001b[0m\u001b[1;33m\u001b[0m\u001b[1;33m\u001b[0m\u001b[0m\n\u001b[0m\u001b[0;32m    434\u001b[0m             \u001b[0mout\u001b[0m \u001b[1;33m=\u001b[0m \u001b[0mX\u001b[0m\u001b[1;33m,\u001b[0m \u001b[0my\u001b[0m\u001b[1;33m\u001b[0m\u001b[1;33m\u001b[0m\u001b[0m\n\u001b[0;32m    435\u001b[0m \u001b[1;33m\u001b[0m\u001b[0m\n",
      "\u001b[1;32m~\\AppData\\Local\\Continuum\\anaconda3\\lib\\site-packages\\sklearn\\utils\\validation.py\u001b[0m in \u001b[0;36minner_f\u001b[1;34m(*args, **kwargs)\u001b[0m\n\u001b[0;32m     61\u001b[0m             \u001b[0mextra_args\u001b[0m \u001b[1;33m=\u001b[0m \u001b[0mlen\u001b[0m\u001b[1;33m(\u001b[0m\u001b[0margs\u001b[0m\u001b[1;33m)\u001b[0m \u001b[1;33m-\u001b[0m \u001b[0mlen\u001b[0m\u001b[1;33m(\u001b[0m\u001b[0mall_args\u001b[0m\u001b[1;33m)\u001b[0m\u001b[1;33m\u001b[0m\u001b[1;33m\u001b[0m\u001b[0m\n\u001b[0;32m     62\u001b[0m             \u001b[1;32mif\u001b[0m \u001b[0mextra_args\u001b[0m \u001b[1;33m<=\u001b[0m \u001b[1;36m0\u001b[0m\u001b[1;33m:\u001b[0m\u001b[1;33m\u001b[0m\u001b[1;33m\u001b[0m\u001b[0m\n\u001b[1;32m---> 63\u001b[1;33m                 \u001b[1;32mreturn\u001b[0m \u001b[0mf\u001b[0m\u001b[1;33m(\u001b[0m\u001b[1;33m*\u001b[0m\u001b[0margs\u001b[0m\u001b[1;33m,\u001b[0m \u001b[1;33m**\u001b[0m\u001b[0mkwargs\u001b[0m\u001b[1;33m)\u001b[0m\u001b[1;33m\u001b[0m\u001b[1;33m\u001b[0m\u001b[0m\n\u001b[0m\u001b[0;32m     64\u001b[0m \u001b[1;33m\u001b[0m\u001b[0m\n\u001b[0;32m     65\u001b[0m             \u001b[1;31m# extra_args > 0\u001b[0m\u001b[1;33m\u001b[0m\u001b[1;33m\u001b[0m\u001b[1;33m\u001b[0m\u001b[0m\n",
      "\u001b[1;32m~\\AppData\\Local\\Continuum\\anaconda3\\lib\\site-packages\\sklearn\\utils\\validation.py\u001b[0m in \u001b[0;36mcheck_X_y\u001b[1;34m(X, y, accept_sparse, accept_large_sparse, dtype, order, copy, force_all_finite, ensure_2d, allow_nd, multi_output, ensure_min_samples, ensure_min_features, y_numeric, estimator)\u001b[0m\n\u001b[0;32m    819\u001b[0m                     \u001b[0mensure_min_samples\u001b[0m\u001b[1;33m=\u001b[0m\u001b[0mensure_min_samples\u001b[0m\u001b[1;33m,\u001b[0m\u001b[1;33m\u001b[0m\u001b[1;33m\u001b[0m\u001b[0m\n\u001b[0;32m    820\u001b[0m                     \u001b[0mensure_min_features\u001b[0m\u001b[1;33m=\u001b[0m\u001b[0mensure_min_features\u001b[0m\u001b[1;33m,\u001b[0m\u001b[1;33m\u001b[0m\u001b[1;33m\u001b[0m\u001b[0m\n\u001b[1;32m--> 821\u001b[1;33m                     estimator=estimator)\n\u001b[0m\u001b[0;32m    822\u001b[0m     \u001b[1;32mif\u001b[0m \u001b[0mmulti_output\u001b[0m\u001b[1;33m:\u001b[0m\u001b[1;33m\u001b[0m\u001b[1;33m\u001b[0m\u001b[0m\n\u001b[0;32m    823\u001b[0m         y = check_array(y, accept_sparse='csr', force_all_finite=True,\n",
      "\u001b[1;32m~\\AppData\\Local\\Continuum\\anaconda3\\lib\\site-packages\\sklearn\\utils\\validation.py\u001b[0m in \u001b[0;36minner_f\u001b[1;34m(*args, **kwargs)\u001b[0m\n\u001b[0;32m     61\u001b[0m             \u001b[0mextra_args\u001b[0m \u001b[1;33m=\u001b[0m \u001b[0mlen\u001b[0m\u001b[1;33m(\u001b[0m\u001b[0margs\u001b[0m\u001b[1;33m)\u001b[0m \u001b[1;33m-\u001b[0m \u001b[0mlen\u001b[0m\u001b[1;33m(\u001b[0m\u001b[0mall_args\u001b[0m\u001b[1;33m)\u001b[0m\u001b[1;33m\u001b[0m\u001b[1;33m\u001b[0m\u001b[0m\n\u001b[0;32m     62\u001b[0m             \u001b[1;32mif\u001b[0m \u001b[0mextra_args\u001b[0m \u001b[1;33m<=\u001b[0m \u001b[1;36m0\u001b[0m\u001b[1;33m:\u001b[0m\u001b[1;33m\u001b[0m\u001b[1;33m\u001b[0m\u001b[0m\n\u001b[1;32m---> 63\u001b[1;33m                 \u001b[1;32mreturn\u001b[0m \u001b[0mf\u001b[0m\u001b[1;33m(\u001b[0m\u001b[1;33m*\u001b[0m\u001b[0margs\u001b[0m\u001b[1;33m,\u001b[0m \u001b[1;33m**\u001b[0m\u001b[0mkwargs\u001b[0m\u001b[1;33m)\u001b[0m\u001b[1;33m\u001b[0m\u001b[1;33m\u001b[0m\u001b[0m\n\u001b[0m\u001b[0;32m     64\u001b[0m \u001b[1;33m\u001b[0m\u001b[0m\n\u001b[0;32m     65\u001b[0m             \u001b[1;31m# extra_args > 0\u001b[0m\u001b[1;33m\u001b[0m\u001b[1;33m\u001b[0m\u001b[1;33m\u001b[0m\u001b[0m\n",
      "\u001b[1;32m~\\AppData\\Local\\Continuum\\anaconda3\\lib\\site-packages\\sklearn\\utils\\validation.py\u001b[0m in \u001b[0;36mcheck_array\u001b[1;34m(array, accept_sparse, accept_large_sparse, dtype, order, copy, force_all_finite, ensure_2d, allow_nd, ensure_min_samples, ensure_min_features, estimator)\u001b[0m\n\u001b[0;32m    639\u001b[0m                     \u001b[1;34m\"Reshape your data either using array.reshape(-1, 1) if \"\u001b[0m\u001b[1;33m\u001b[0m\u001b[1;33m\u001b[0m\u001b[0m\n\u001b[0;32m    640\u001b[0m                     \u001b[1;34m\"your data has a single feature or array.reshape(1, -1) \"\u001b[0m\u001b[1;33m\u001b[0m\u001b[1;33m\u001b[0m\u001b[0m\n\u001b[1;32m--> 641\u001b[1;33m                     \"if it contains a single sample.\".format(array))\n\u001b[0m\u001b[0;32m    642\u001b[0m \u001b[1;33m\u001b[0m\u001b[0m\n\u001b[0;32m    643\u001b[0m         \u001b[1;31m# make sure we actually converted to numeric:\u001b[0m\u001b[1;33m\u001b[0m\u001b[1;33m\u001b[0m\u001b[1;33m\u001b[0m\u001b[0m\n",
      "\u001b[1;31mValueError\u001b[0m: Expected 2D array, got 1D array instead:\narray=[ 62.3 280.7  78.2 265.6 228.3 164.5 177.  222.4 197.6 109.8 139.5 225.8\n 293.6 141.3  75.5  85.7  66.1 276.9 120.5 239.3 239.8  90.4 175.7 140.3\n   8.6 121.  187.8 134.3 266.9 102.7 248.8  97.5 131.7  76.4  93.9  25.1\n  17.2 149.8   0.7  53.5 120.2 292.9 170.2   8.4  70.6 290.7 230.1 286.\n 175.1 273.7 202.5 210.7 243.2  89.7  87.2   8.7  67.8 284.3  69.  213.4\n 261.3  38.2  43.1 240.1 262.7 104.6  38.  218.5 163.5 220.5 110.7 199.8\n  57.5 172.5 139.2 224.  234.5  94.2 206.8 193.7 109.8 237.4 214.7 139.3\n 151.5  76.3 215.4  28.6  25.6 227.2  76.4 100.4  44.5  69.2  23.8 248.4\n   7.3 262.9 296.4 206.9  59.6 187.9 204.1  36.9  75.1 232.1 199.1 195.4\n 240.1  13.2  43.  210.8  16.9 131.1 216.8 166.8 265.2  27.5  95.7   4.1\n 107.4 125.7 184.9 280.2 217.7 229.5 135.2 137.9  48.3 191.1 168.4 177.\n 228.  213.5  17.2 198.9  66.9 237.4  39.5 117.2   5.4 149.7 171.3 241.7\n 222.4  97.2 129.4 239.9 283.6 209.6 197.6 136.2 123.1  25.   68.4 281.4\n 289.7  31.5   7.8 255.4].\nReshape your data either using array.reshape(-1, 1) if your data has a single feature or array.reshape(1, -1) if it contains a single sample."
     ]
    }
   ],
   "source": [
    "lr.fit(Xtrain_tv, ytrain_tv)"
   ]
  },
  {
   "cell_type": "markdown",
   "id": "7f441e72",
   "metadata": {},
   "source": [
    "Here, we received an error, which suggests that the method `fit` expects a 2D array and got 1D instead. This is simply a matter of reshaping the training data such that it can be in a feature matrix format we discussed above. "
   ]
  },
  {
   "cell_type": "code",
   "execution_count": 30,
   "id": "a5352ef5",
   "metadata": {},
   "outputs": [
    {
     "name": "stdout",
     "output_type": "stream",
     "text": [
      "(160,)\n",
      "1\n"
     ]
    }
   ],
   "source": [
    "print(Xtrain_tv.shape)\n",
    "print(Xtrain_tv.ndim)"
   ]
  },
  {
   "cell_type": "code",
   "execution_count": 31,
   "id": "d3fa3600",
   "metadata": {},
   "outputs": [
    {
     "name": "stdout",
     "output_type": "stream",
     "text": [
      "(160, 1)\n",
      "2\n"
     ]
    },
    {
     "data": {
      "text/plain": [
       "array([[ 62.3],\n",
       "       [280.7],\n",
       "       [ 78.2],\n",
       "       [265.6],\n",
       "       [228.3],\n",
       "       [164.5],\n",
       "       [177. ],\n",
       "       [222.4],\n",
       "       [197.6],\n",
       "       [109.8],\n",
       "       [139.5],\n",
       "       [225.8],\n",
       "       [293.6],\n",
       "       [141.3],\n",
       "       [ 75.5],\n",
       "       [ 85.7],\n",
       "       [ 66.1],\n",
       "       [276.9],\n",
       "       [120.5],\n",
       "       [239.3],\n",
       "       [239.8],\n",
       "       [ 90.4],\n",
       "       [175.7],\n",
       "       [140.3],\n",
       "       [  8.6],\n",
       "       [121. ],\n",
       "       [187.8],\n",
       "       [134.3],\n",
       "       [266.9],\n",
       "       [102.7],\n",
       "       [248.8],\n",
       "       [ 97.5],\n",
       "       [131.7],\n",
       "       [ 76.4],\n",
       "       [ 93.9],\n",
       "       [ 25.1],\n",
       "       [ 17.2],\n",
       "       [149.8],\n",
       "       [  0.7],\n",
       "       [ 53.5],\n",
       "       [120.2],\n",
       "       [292.9],\n",
       "       [170.2],\n",
       "       [  8.4],\n",
       "       [ 70.6],\n",
       "       [290.7],\n",
       "       [230.1],\n",
       "       [286. ],\n",
       "       [175.1],\n",
       "       [273.7],\n",
       "       [202.5],\n",
       "       [210.7],\n",
       "       [243.2],\n",
       "       [ 89.7],\n",
       "       [ 87.2],\n",
       "       [  8.7],\n",
       "       [ 67.8],\n",
       "       [284.3],\n",
       "       [ 69. ],\n",
       "       [213.4],\n",
       "       [261.3],\n",
       "       [ 38.2],\n",
       "       [ 43.1],\n",
       "       [240.1],\n",
       "       [262.7],\n",
       "       [104.6],\n",
       "       [ 38. ],\n",
       "       [218.5],\n",
       "       [163.5],\n",
       "       [220.5],\n",
       "       [110.7],\n",
       "       [199.8],\n",
       "       [ 57.5],\n",
       "       [172.5],\n",
       "       [139.2],\n",
       "       [224. ],\n",
       "       [234.5],\n",
       "       [ 94.2],\n",
       "       [206.8],\n",
       "       [193.7],\n",
       "       [109.8],\n",
       "       [237.4],\n",
       "       [214.7],\n",
       "       [139.3],\n",
       "       [151.5],\n",
       "       [ 76.3],\n",
       "       [215.4],\n",
       "       [ 28.6],\n",
       "       [ 25.6],\n",
       "       [227.2],\n",
       "       [ 76.4],\n",
       "       [100.4],\n",
       "       [ 44.5],\n",
       "       [ 69.2],\n",
       "       [ 23.8],\n",
       "       [248.4],\n",
       "       [  7.3],\n",
       "       [262.9],\n",
       "       [296.4],\n",
       "       [206.9],\n",
       "       [ 59.6],\n",
       "       [187.9],\n",
       "       [204.1],\n",
       "       [ 36.9],\n",
       "       [ 75.1],\n",
       "       [232.1],\n",
       "       [199.1],\n",
       "       [195.4],\n",
       "       [240.1],\n",
       "       [ 13.2],\n",
       "       [ 43. ],\n",
       "       [210.8],\n",
       "       [ 16.9],\n",
       "       [131.1],\n",
       "       [216.8],\n",
       "       [166.8],\n",
       "       [265.2],\n",
       "       [ 27.5],\n",
       "       [ 95.7],\n",
       "       [  4.1],\n",
       "       [107.4],\n",
       "       [125.7],\n",
       "       [184.9],\n",
       "       [280.2],\n",
       "       [217.7],\n",
       "       [229.5],\n",
       "       [135.2],\n",
       "       [137.9],\n",
       "       [ 48.3],\n",
       "       [191.1],\n",
       "       [168.4],\n",
       "       [177. ],\n",
       "       [228. ],\n",
       "       [213.5],\n",
       "       [ 17.2],\n",
       "       [198.9],\n",
       "       [ 66.9],\n",
       "       [237.4],\n",
       "       [ 39.5],\n",
       "       [117.2],\n",
       "       [  5.4],\n",
       "       [149.7],\n",
       "       [171.3],\n",
       "       [241.7],\n",
       "       [222.4],\n",
       "       [ 97.2],\n",
       "       [129.4],\n",
       "       [239.9],\n",
       "       [283.6],\n",
       "       [209.6],\n",
       "       [197.6],\n",
       "       [136.2],\n",
       "       [123.1],\n",
       "       [ 25. ],\n",
       "       [ 68.4],\n",
       "       [281.4],\n",
       "       [289.7],\n",
       "       [ 31.5],\n",
       "       [  7.8],\n",
       "       [255.4]])"
      ]
     },
     "execution_count": 31,
     "metadata": {},
     "output_type": "execute_result"
    }
   ],
   "source": [
    "Xtrain_tv = Xtrain_tv.values.reshape(-1,1)\n",
    "print(Xtrain_tv.shape)\n",
    "print(Xtrain_tv.ndim)\n",
    "Xtrain_tv"
   ]
  },
  {
   "cell_type": "markdown",
   "id": "ac52c56a",
   "metadata": {},
   "source": [
    "Now the data is ready for [`fit` method](https://scikit-learn.org/stable/modules/generated/sklearn.linear_model.LinearRegression.html#sklearn.linear_model.LinearRegression.fit)."
   ]
  },
  {
   "cell_type": "code",
   "execution_count": 32,
   "id": "55c3c3e7",
   "metadata": {},
   "outputs": [
    {
     "data": {
      "text/plain": [
       "LinearRegression()"
      ]
     },
     "execution_count": 32,
     "metadata": {},
     "output_type": "execute_result"
    }
   ],
   "source": [
    "lr.fit(Xtrain_tv, ytrain_tv)"
   ]
  },
  {
   "cell_type": "markdown",
   "id": "28e24c76",
   "metadata": {},
   "source": [
    "The data has been fit to a linear regression model and now we can explore some of the model's properties to evaluate what was \"learned\" from the data."
   ]
  },
  {
   "cell_type": "code",
   "execution_count": 33,
   "id": "cbe172ca",
   "metadata": {},
   "outputs": [
    {
     "name": "stdout",
     "output_type": "stream",
     "text": [
      "intercept: 7.181529756364786\n",
      "coefficients: [0.04589456]\n",
      "R_squared: 0.5919754429541753\n"
     ]
    }
   ],
   "source": [
    "print(f'intercept: {lr.intercept_}')\n",
    "print(f'coefficients: {lr.coef_}')\n",
    "print(f'R_squared: {lr.score(Xtrain_tv, ytrain_tv)}')"
   ]
  },
  {
   "cell_type": "markdown",
   "id": "c4d55291",
   "metadata": {},
   "source": [
    "The next step is to use this model to obtain model prediction. Sklearn provides the [`predict` method](https://scikit-learn.org/stable/modules/generated/sklearn.linear_model.LinearRegression.html#sklearn.linear_model.LinearRegression.predict) to obtain model predictions on the test set. Let's also plot the regression line with test data.  "
   ]
  },
  {
   "cell_type": "code",
   "execution_count": 34,
   "id": "3e281087",
   "metadata": {},
   "outputs": [],
   "source": [
    "ypred_tv = lr.predict( Xtest_tv.values.reshape(-1,1) ) "
   ]
  },
  {
   "cell_type": "code",
   "execution_count": 75,
   "id": "b36994c4",
   "metadata": {},
   "outputs": [
    {
     "data": {
      "image/png": "[encoded data removed]",
      "text/plain": [
       "<Figure size 720x360 with 1 Axes>"
      ]
     },
     "metadata": {
      "needs_background": "light"
     },
     "output_type": "display_data"
    }
   ],
   "source": [
    "fig, axes = plt.subplots(figsize=(10, 5))\n",
    "plt.scatter(Xtest_tv, ytest_tv, c='y', alpha=0.5)\n",
    "plt.plot(Xtest_tv, ypred_tv, c='red')\n",
    "plt.xlabel('Advertisement spending on TV (in thousands)')\n",
    "plt.ylabel('Sales (in thousand)' )\n",
    "plt.title('Sales vs Spending on Ad type TV')\n",
    "plt.show()"
   ]
  },
  {
   "cell_type": "markdown",
   "id": "9ea488a3",
   "metadata": {},
   "source": [
    "We have the predictions made by our linear regression model. Now the final step is to evaluate the performance of this model on the test set. Root Mean Squared Error (RMSE) is a popular metric to evaluate regression based models. \n",
    "\n",
    "Sklearn provides numerous model evaluation metrics in its `metrics` module, including the [`mean_squared_error` function](https://scikit-learn.org/stable/modules/generated/sklearn.metrics.mean_squared_error.html). We can import this function and the `square root` function from the [`math`](https://docs.python.org/3/library/math.html#module-math) module to obtain the square root of the Mean Squared Error (MSE)."
   ]
  },
  {
   "cell_type": "code",
   "execution_count": 35,
   "id": "a0a0a0a2",
   "metadata": {},
   "outputs": [],
   "source": [
    "from sklearn.metrics import mean_squared_error\n",
    "from math import sqrt"
   ]
  },
  {
   "cell_type": "code",
   "execution_count": 42,
   "id": "dc5cacca",
   "metadata": {},
   "outputs": [
    {
     "name": "stdout",
     "output_type": "stream",
     "text": [
      "3.182007792060533\n"
     ]
    }
   ],
   "source": [
    "mse_tv = mean_squared_error(ytest_tv, ypred_tv)\n",
    "rmse_tv = sqrt(mse_tv)\n",
    "print(rmse_tv)"
   ]
  },
  {
   "cell_type": "code",
   "execution_count": 59,
   "id": "04cdd7dc",
   "metadata": {},
   "outputs": [
    {
     "data": {
      "text/plain": [
       "405.00694354935797"
      ]
     },
     "execution_count": 59,
     "metadata": {},
     "output_type": "execute_result"
    }
   ],
   "source": [
    "rss_tv = ((ytest_tv- ypred_tv)**2).sum()\n",
    "rss_tv"
   ]
  },
  {
   "cell_type": "markdown",
   "id": "4738432e",
   "metadata": {},
   "source": [
    "Machine learning models are evaluated against some benchmark model. This benchmark model can be an existing model in use. In our case, we can use a naive benchmark such as the average sales. "
   ]
  },
  {
   "cell_type": "code",
   "execution_count": 77,
   "id": "bd02015b",
   "metadata": {},
   "outputs": [
    {
     "name": "stdout",
     "output_type": "stream",
     "text": [
      "14.095000000000002\n",
      "40\n"
     ]
    },
    {
     "data": {
      "text/plain": [
       "array([14.095, 14.095, 14.095, 14.095, 14.095, 14.095, 14.095, 14.095,\n",
       "       14.095, 14.095])"
      ]
     },
     "execution_count": 77,
     "metadata": {},
     "output_type": "execute_result"
    }
   ],
   "source": [
    "yavg_tv = ytrain_tv.mean()\n",
    "print(yavg_tv)\n",
    "\n",
    "n = len(Xtest_tv)\n",
    "yavg_tv = np.full(n, yavg_tv)\n",
    "print(len(yavg_tv))\n",
    "yavg_tv[:10]"
   ]
  },
  {
   "cell_type": "markdown",
   "id": "37d21c12",
   "metadata": {},
   "source": [
    "Let's calculate the RMSE and RSS of this naive model and compare that with the linear regression model's RMSE."
   ]
  },
  {
   "cell_type": "code",
   "execution_count": 79,
   "id": "4f69294f",
   "metadata": {},
   "outputs": [
    {
     "name": "stdout",
     "output_type": "stream",
     "text": [
      "5.5766567045139155\n"
     ]
    }
   ],
   "source": [
    "rmseavg_tv = sqrt(mean_squared_error(ytest_tv, yavg_tv))\n",
    "print(rmseavg_tv)"
   ]
  },
  {
   "cell_type": "code",
   "execution_count": 80,
   "id": "b4e4f9c3",
   "metadata": {},
   "outputs": [
    {
     "data": {
      "text/plain": [
       "1243.964"
      ]
     },
     "execution_count": 80,
     "metadata": {},
     "output_type": "execute_result"
    }
   ],
   "source": [
    "rssavg_tv = ((ytest_tv- yavg_tv)**2).sum()\n",
    "rssavg_tv"
   ]
  },
  {
   "cell_type": "markdown",
   "id": "7ed3da34",
   "metadata": {},
   "source": [
    "The errors of the linear regression model is less than that of our naive model. Linear regression model has definitely \"learned\" to predict sales better from the data. \n",
    "\n",
    "Let's plot both prediction lines together and observe the errors."
   ]
  },
  {
   "cell_type": "code",
   "execution_count": 117,
   "id": "858f2f22",
   "metadata": {},
   "outputs": [
    {
     "data": {
      "image/png": "[encoded data removed]",
      "text/plain": [
       "<Figure size 720x432 with 1 Axes>"
      ]
     },
     "metadata": {
      "needs_background": "light"
     },
     "output_type": "display_data"
    }
   ],
   "source": [
    "fig, ax = plt.subplots(figsize=(10, 6))\n",
    "plt.scatter(Xtest_tv, ytest_tv, c='y', alpha=0.5)\n",
    "plt.plot(Xtest_tv, ypred_tv, c='red', label='regression line')\n",
    "plt.plot(Xtest_tv, yavg_tv, c='black', label='mean line')\n",
    "\n",
    "plt.xlabel('Advertisement spending on TV (in thousands)')\n",
    "plt.ylabel('Sales (in thousand)' )\n",
    "plt.title('Sales vs Spending on Ad type TV')\n",
    "plt.legend()\n",
    "plt.show()"
   ]
  },
  {
   "cell_type": "markdown",
   "id": "05271b1b",
   "metadata": {},
   "source": [
    "The next question we can ask is whether there is a possibility to improve the model. For that, we can try having all ad types in the model instead of just the ad type TV and see if such a model can predict the sales even better.\n",
    "\n",
    "### Multiple Linear Regression\n"
   ]
  },
  {
   "cell_type": "code",
   "execution_count": null,
   "id": "e6b08e66",
   "metadata": {},
   "outputs": [],
   "source": [
    "# prepare feature matrix and target vector\n",
    "X = data.iloc[:,:-1]\n",
    "y = data['Sales']\n",
    "\n",
    "Xtrain, Xtest, ytrain, ytest = train_test_split(X, y, test_size=0.2, random_state=123)\n",
    "\n",
    "lr_model = LinearRegression()\n",
    "lr_model.fit(Xtrain, ytrain)\n",
    "\n",
    "print(f'intercept: {lr_model.intercept_}')\n",
    "print(f'coefficients: {[(i,j) for i,j in zip(data.columns[:3],lr_model.coef_)]}')\n",
    "print(f'R_squared: {lr_model.score(Xtrain, ytrain)}')"
   ]
  },
  {
   "cell_type": "markdown",
   "id": "f563bae9",
   "metadata": {},
   "source": [
    "Now that we have a multiple linear regression model based on all ad types, we can get sales predictions from any combination of TV, Radio and Newspaper advertising costs. We will use the test set to make these predictions."
   ]
  },
  {
   "cell_type": "code",
   "execution_count": 124,
   "id": "0ce1bdfc",
   "metadata": {},
   "outputs": [
    {
     "name": "stdout",
     "output_type": "stream",
     "text": [
      "[('TV', 199.8), ('Radio', 3.1), ('Newspaper', 34.6)]\n",
      "12.589348601212333\n"
     ]
    }
   ],
   "source": [
    "ypred = lr_model.predict(Xtest)\n",
    "\n",
    "print( [(i,j) for i,j in zip(data.columns[:3],Xtest.iloc[0])] )\n",
    "print(ypred[0])"
   ]
  },
  {
   "cell_type": "markdown",
   "id": "5a2a8d01",
   "metadata": {},
   "source": [
    "So if we spent \\\\$199.8 on TV ad, \\\\$3.1 in Radio ad and \\\\$34.6 in Newspaper ad in thousands of dollar, we can expect to sell 1258 units of a single product in that market. \n",
    "\n",
    "Let's evaluate the performance of this model against the simple linear regression model."
   ]
  },
  {
   "cell_type": "code",
   "execution_count": null,
   "id": "e4b305ee",
   "metadata": {},
   "outputs": [],
   "source": [
    "mse = sqrt(mean_squared_error(ytest, ypred))\n",
    "print(f'RMSE: {rmse}')\n",
    "\n",
    "rss = ((ytest - ypred)**2).sum()\n",
    "print(f'RSS: {rss}')"
   ]
  },
  {
   "cell_type": "markdown",
   "id": "5c721135",
   "metadata": {},
   "source": [
    "Indeed adding the data from the two other ad types has minimized the error even more."
   ]
  },
  {
   "cell_type": "code",
   "execution_count": null,
   "id": "624ae8b9",
   "metadata": {},
   "outputs": [],
   "source": []
  }
 ],
 "metadata": {
  "kernelspec": {
   "display_name": "Python 3",
   "language": "python",
   "name": "python3"
  },
  "language_info": {
   "codemirror_mode": {
    "name": "ipython",
    "version": 3
   },
   "file_extension": ".py",
   "mimetype": "text/x-python",
   "name": "python",
   "nbconvert_exporter": "python",
   "pygments_lexer": "ipython3",
   "version": "3.7.3"
  }
 },
 "nbformat": 4,
 "nbformat_minor": 5
}
