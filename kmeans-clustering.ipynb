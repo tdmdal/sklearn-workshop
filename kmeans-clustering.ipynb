{
 "cells": [
  {
   "cell_type": "code",
   "execution_count": 3,
   "id": "9d165715",
   "metadata": {},
   "outputs": [],
   "source": [
    "import numpy as np\n",
    "import pandas as pd"
   ]
  },
  {
   "cell_type": "code",
   "execution_count": 1,
   "id": "54d87d83",
   "metadata": {},
   "outputs": [
    {
     "name": "stderr",
     "output_type": "stream",
     "text": [
      "C:\\Users\\niti.mishra\\AppData\\Local\\Continuum\\anaconda3\\lib\\site-packages\\sklearn\\datasets\\_openml.py:407: UserWarning: Multiple active versions of the dataset matching the name bank-marketing exist. Versions may be fundamentally different, returning version 1.\n",
      "  \" {version}.\".format(name=name, version=res[0]['version']))\n"
     ]
    }
   ],
   "source": [
    "from sklearn.datasets import fetch_openml\n",
    "\n",
    "#fetch by using data name\n",
    "# https://www.openml.org/d/1461\n",
    "bank_marketing = fetch_openml(name='bank-marketing')# seperate independent variables and target variable \n",
    "x = bank_marketing.data \n",
    "y = bank_marketing.target"
   ]
  },
  {
   "cell_type": "code",
   "execution_count": 4,
   "id": "83f94589",
   "metadata": {},
   "outputs": [],
   "source": [
    "from sklearn.datasets import make_classification\n",
    "from sklearn.neighbors import KNeighborsClassifier\n",
    "from sklearn.model_selection import learning_curve# create dataset`"
   ]
  },
  {
   "cell_type": "code",
   "execution_count": 5,
   "id": "46c0cc04",
   "metadata": {},
   "outputs": [],
   "source": [
    "X, y = make_classification(n_classes=2, n_features=10, n_samples=5000, random_state=1)# create estimator\n",
    "KNN_classifier = KNeighborsClassifier()#"
   ]
  },
  {
   "cell_type": "code",
   "execution_count": 6,
   "id": "9dcbd87f",
   "metadata": {},
   "outputs": [],
   "source": [
    "train_sizes, train_scores, test_scores = learning_curve(\n",
    "estimator = KNN_classifier, X = X,y = y,\n",
    "    train_sizes=np.linspace(0.1, 1.0, 5), \n",
    "    shuffle=True, cv = 5)"
   ]
  },
  {
   "cell_type": "code",
   "execution_count": null,
   "id": "0371cbe6",
   "metadata": {},
   "outputs": [],
   "source": []
  }
 ],
 "metadata": {
  "kernelspec": {
   "display_name": "Python 3",
   "language": "python",
   "name": "python3"
  },
  "language_info": {
   "codemirror_mode": {
    "name": "ipython",
    "version": 3
   },
   "file_extension": ".py",
   "mimetype": "text/x-python",
   "name": "python",
   "nbconvert_exporter": "python",
   "pygments_lexer": "ipython3",
   "version": "3.7.3"
  }
 },
 "nbformat": 4,
 "nbformat_minor": 5
}
